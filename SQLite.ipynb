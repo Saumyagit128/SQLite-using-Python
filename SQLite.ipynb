{
 "cells": [
  {
   "cell_type": "markdown",
   "id": "74b0734c-1ffc-40ff-a51a-925f6e9f9a05",
   "metadata": {},
   "source": [
    "## Importing Libraries"
   ]
  },
  {
   "cell_type": "code",
   "execution_count": 19,
   "id": "fa8a0482-3acf-485c-bc17-b9f0b56033dd",
   "metadata": {},
   "outputs": [],
   "source": [
    "#Importing Libraies\n",
    "\n",
    "import pandas as pd\n",
    "import matplotlib.pyplot as plt\n",
    "import sqlite3"
   ]
  },
  {
   "cell_type": "markdown",
   "id": "bb138a99-5a2f-4628-b843-8bc855054b7b",
   "metadata": {},
   "source": [
    "## Ingestion"
   ]
  },
  {
   "cell_type": "code",
   "execution_count": 21,
   "id": "40235845-9072-476e-8ff1-0ece2f4db699",
   "metadata": {},
   "outputs": [],
   "source": [
    "#Creating connection\n",
    "conn = sqlite3.connect('sales.db')"
   ]
  },
  {
   "cell_type": "code",
   "execution_count": 23,
   "id": "ad70b787-1600-4c97-883b-71178e4e60e6",
   "metadata": {},
   "outputs": [],
   "source": [
    "df = pd.read_csv(r\"C:\\Users\\Admin\\Documents\\Data Analyst Projects\\Bike Sales Analysis\\sql-data-analytics-project\\Dataset\\sales.csv\")"
   ]
  },
  {
   "cell_type": "code",
   "execution_count": 25,
   "id": "2534196e-90e6-41fb-b7d3-7393b8901b8b",
   "metadata": {},
   "outputs": [
    {
     "data": {
      "text/plain": [
       "60398"
      ]
     },
     "execution_count": 25,
     "metadata": {},
     "output_type": "execute_result"
    }
   ],
   "source": [
    "#Ingesting sales table in database\n",
    "df.to_sql('sales', conn, if_exists = 'replace', index = False)"
   ]
  },
  {
   "cell_type": "code",
   "execution_count": 27,
   "id": "2933d0bb-ace4-4607-8054-bd29ecc5b984",
   "metadata": {},
   "outputs": [],
   "source": [
    "#Establishing cursor\n",
    "c = conn.cursor()"
   ]
  },
  {
   "cell_type": "code",
   "execution_count": 73,
   "id": "6a87c462-14f9-4817-babd-424378999c5d",
   "metadata": {},
   "outputs": [
    {
     "name": "stdout",
     "output_type": "stream",
     "text": [
      "('SO54496', 282, 5400, '2013-03-16', '2013-03-23', '2013-03-28', 25, 1, 25)\n",
      "('SO54496', 289, 5400, '2013-03-16', '2013-03-23', '2013-03-28', 5, 1, 5)\n",
      "('SO54496', 259, 5400, '2013-03-16', '2013-03-23', '2013-03-28', 2, 1, 2)\n",
      "('SO54497', 174, 9281, '2013-03-16', '2013-03-23', '2013-03-28', 22, 1, 22)\n",
      "('SO54497', 280, 9281, '2013-03-16', '2013-03-23', '2013-03-28', 9, 1, 9)\n",
      "('SO54498', 174, 4825, '2013-03-16', '2013-03-23', '2013-03-28', 22, 1, 22)\n",
      "('SO54498', 277, 4825, '2013-03-16', '2013-03-23', '2013-03-28', 54, 1, 54)\n",
      "('SO54499', 289, 4286, '2013-03-16', '2013-03-23', '2013-03-28', 5, 1, 5)\n",
      "('SO54499', 246, 4286, '2013-03-16', '2013-03-23', '2013-03-28', 35, 1, 35)\n",
      "('SO54500', 289, 1472, '2013-03-16', '2013-03-23', '2013-03-28', 5, 1, 5)\n"
     ]
    }
   ],
   "source": [
    "#fetching data\n",
    "c.execute(\"SELECT * FROM sales LIMIT 10\")\n",
    "items = c.fetchall()\n",
    "for item in items:\n",
    "    print(item)"
   ]
  },
  {
   "cell_type": "markdown",
   "id": "c7f82b53-28fd-45ae-af2a-df610d4ebbac",
   "metadata": {},
   "source": [
    "## Queries"
   ]
  },
  {
   "cell_type": "code",
   "execution_count": 31,
   "id": "1f089832-c048-4d1e-a8bc-47863748eb98",
   "metadata": {},
   "outputs": [
    {
     "name": "stdout",
     "output_type": "stream",
     "text": [
      "[(29356250,)]\n"
     ]
    }
   ],
   "source": [
    "# Total sales\n",
    "c.execute(\"SELECT SUM(sales_amount) as total_sales FROM sales;\")\n",
    "print(c.fetchall())"
   ]
  },
  {
   "cell_type": "code",
   "execution_count": 33,
   "id": "e88c29cb-9d9f-49dc-87c1-e3fd4bef9c29",
   "metadata": {},
   "outputs": [
    {
     "data": {
      "text/plain": [
       "[(None, 15, 4992),\n",
       " ('2010', 14, 43419),\n",
       " ('2011', 2216, 7075088),\n",
       " ('2012', 3269, 5842231),\n",
       " ('2013', 21287, 16344878),\n",
       " ('2014', 871, 45642)]"
      ]
     },
     "execution_count": 33,
     "metadata": {},
     "output_type": "execute_result"
    }
   ],
   "source": [
    "# Yearly Revenue\n",
    "c.execute(\n",
    "    \"SELECT strftime('%Y', order_date) AS year, COUNT(DISTINCT order_number) as total_orders, SUM(sales_amount) as total_revenue FROM sales GROUP BY strftime('%Y', order_date) ORDER BY 1\"\n",
    ")\n",
    "c.fetchall()"
   ]
  },
  {
   "cell_type": "code",
   "execution_count": 35,
   "id": "e69cad03-6e54-4ee2-aa33-63c94af99422",
   "metadata": {},
   "outputs": [],
   "source": [
    "# Loading into pandas\n",
    "df = pd.read_sql(\"SELECT * FROM sales\", conn)"
   ]
  },
  {
   "cell_type": "code",
   "execution_count": 39,
   "id": "5d36c647-870d-4d3e-89e6-431fb3a1e508",
   "metadata": {},
   "outputs": [
    {
     "data": {
      "text/html": [
       "<div>\n",
       "<style scoped>\n",
       "    .dataframe tbody tr th:only-of-type {\n",
       "        vertical-align: middle;\n",
       "    }\n",
       "\n",
       "    .dataframe tbody tr th {\n",
       "        vertical-align: top;\n",
       "    }\n",
       "\n",
       "    .dataframe thead th {\n",
       "        text-align: right;\n",
       "    }\n",
       "</style>\n",
       "<table border=\"1\" class=\"dataframe\">\n",
       "  <thead>\n",
       "    <tr style=\"text-align: right;\">\n",
       "      <th></th>\n",
       "      <th>order_number</th>\n",
       "      <th>product_key</th>\n",
       "      <th>customer_key</th>\n",
       "      <th>order_date</th>\n",
       "      <th>shipping_date</th>\n",
       "      <th>due_date</th>\n",
       "      <th>sales_amount</th>\n",
       "      <th>quantity</th>\n",
       "      <th>price</th>\n",
       "    </tr>\n",
       "  </thead>\n",
       "  <tbody>\n",
       "    <tr>\n",
       "      <th>0</th>\n",
       "      <td>SO54496</td>\n",
       "      <td>282</td>\n",
       "      <td>5400</td>\n",
       "      <td>2013-03-16</td>\n",
       "      <td>2013-03-23</td>\n",
       "      <td>2013-03-28</td>\n",
       "      <td>25</td>\n",
       "      <td>1</td>\n",
       "      <td>25</td>\n",
       "    </tr>\n",
       "    <tr>\n",
       "      <th>1</th>\n",
       "      <td>SO54496</td>\n",
       "      <td>289</td>\n",
       "      <td>5400</td>\n",
       "      <td>2013-03-16</td>\n",
       "      <td>2013-03-23</td>\n",
       "      <td>2013-03-28</td>\n",
       "      <td>5</td>\n",
       "      <td>1</td>\n",
       "      <td>5</td>\n",
       "    </tr>\n",
       "    <tr>\n",
       "      <th>2</th>\n",
       "      <td>SO54496</td>\n",
       "      <td>259</td>\n",
       "      <td>5400</td>\n",
       "      <td>2013-03-16</td>\n",
       "      <td>2013-03-23</td>\n",
       "      <td>2013-03-28</td>\n",
       "      <td>2</td>\n",
       "      <td>1</td>\n",
       "      <td>2</td>\n",
       "    </tr>\n",
       "    <tr>\n",
       "      <th>3</th>\n",
       "      <td>SO54497</td>\n",
       "      <td>174</td>\n",
       "      <td>9281</td>\n",
       "      <td>2013-03-16</td>\n",
       "      <td>2013-03-23</td>\n",
       "      <td>2013-03-28</td>\n",
       "      <td>22</td>\n",
       "      <td>1</td>\n",
       "      <td>22</td>\n",
       "    </tr>\n",
       "    <tr>\n",
       "      <th>4</th>\n",
       "      <td>SO54497</td>\n",
       "      <td>280</td>\n",
       "      <td>9281</td>\n",
       "      <td>2013-03-16</td>\n",
       "      <td>2013-03-23</td>\n",
       "      <td>2013-03-28</td>\n",
       "      <td>9</td>\n",
       "      <td>1</td>\n",
       "      <td>9</td>\n",
       "    </tr>\n",
       "  </tbody>\n",
       "</table>\n",
       "</div>"
      ],
      "text/plain": [
       "  order_number  product_key  customer_key  order_date shipping_date  \\\n",
       "0      SO54496          282          5400  2013-03-16    2013-03-23   \n",
       "1      SO54496          289          5400  2013-03-16    2013-03-23   \n",
       "2      SO54496          259          5400  2013-03-16    2013-03-23   \n",
       "3      SO54497          174          9281  2013-03-16    2013-03-23   \n",
       "4      SO54497          280          9281  2013-03-16    2013-03-23   \n",
       "\n",
       "     due_date  sales_amount  quantity  price  \n",
       "0  2013-03-28            25         1     25  \n",
       "1  2013-03-28             5         1      5  \n",
       "2  2013-03-28             2         1      2  \n",
       "3  2013-03-28            22         1     22  \n",
       "4  2013-03-28             9         1      9  "
      ]
     },
     "execution_count": 39,
     "metadata": {},
     "output_type": "execute_result"
    }
   ],
   "source": [
    "df.head()"
   ]
  },
  {
   "cell_type": "markdown",
   "id": "01d3deb4-9d53-48b2-a8f7-cf9e8117c7cb",
   "metadata": {},
   "source": [
    "## Visualization"
   ]
  },
  {
   "cell_type": "code",
   "execution_count": 57,
   "id": "7fb6b106-7d81-4078-b9d6-4074f9efdf21",
   "metadata": {},
   "outputs": [
    {
     "data": {
      "image/png": "[encoded data removed]",
      "text/plain": [
       "<Figure size 500x400 with 1 Axes>"
      ]
     },
     "metadata": {},
     "output_type": "display_data"
    }
   ],
   "source": [
    "# Group by product key and sum revenue\n",
    "top_products = df.groupby('product_key')['sales_amount'].sum().nlargest(10)\n",
    "\n",
    "# Plot Top 10 products\n",
    "plt.figure( figsize = (5,4))\n",
    "top_products.plot(kind = 'bar', color = 'skyblue')\n",
    "\n",
    "plt.title(\"Top 10 Products by Revenue\")\n",
    "plt.ylabel(\"Total Revenue (in lakhs)\")\n",
    "plt.xlabel(\"Product Key\")\n",
    "\n",
    "plt.show()"
   ]
  },
  {
   "cell_type": "code",
   "execution_count": 67,
   "id": "d5d9805a-4a10-4167-b72c-3f4c50f1eb9c",
   "metadata": {},
   "outputs": [
    {
     "data": {
      "image/png": "[encoded data removed]",
      "text/plain": [
       "<Figure size 600x300 with 1 Axes>"
      ]
     },
     "metadata": {},
     "output_type": "display_data"
    }
   ],
   "source": [
    "# Ensure order_date is datetime\n",
    "df['order_date'] = pd.to_datetime(df['order_date'])\n",
    "\n",
    "# Group by year and sum revenue\n",
    "yearly_sales = df.groupby(df['order_date'].dt.year)['sales_amount'].sum()\n",
    "\n",
    "# Plot yearly revenue\n",
    "plt.figure(figsize=(6, 3))\n",
    "plt.plot(yearly_sales.index, yearly_sales.values, marker='o', color='skyblue', linewidth=2)\n",
    "plt.title(\"Yearly Revenue Trend\", fontsize=14)\n",
    "plt.xlabel(\"Year\", fontsize=12)\n",
    "plt.ylabel(\"Total Revenue\", fontsize=12)\n",
    "plt.grid(True, linestyle='--', alpha=0.6)\n",
    "plt.xticks(yearly_sales.index)\n",
    "plt.show()\n"
   ]
  },
  {
   "cell_type": "code",
   "execution_count": null,
   "id": "6e3eafdf-24e5-45f4-b8b7-7d6a3547c417",
   "metadata": {},
   "outputs": [],
   "source": []
  }
 ],
 "metadata": {
  "kernelspec": {
   "display_name": "Python [conda env:base] *",
   "language": "python",
   "name": "conda-base-py"
  },
  "language_info": {
   "codemirror_mode": {
    "name": "ipython",
    "version": 3
   },
   "file_extension": ".py",
   "mimetype": "text/x-python",
   "name": "python",
   "nbconvert_exporter": "python",
   "pygments_lexer": "ipython3",
   "version": "3.12.7"
  }
 },
 "nbformat": 4,
 "nbformat_minor": 5
}
